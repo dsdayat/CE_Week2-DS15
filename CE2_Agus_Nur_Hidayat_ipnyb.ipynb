{
  "nbformat": 4,
  "nbformat_minor": 0,
  "metadata": {
    "kernelspec": {
      "display_name": "Python 3",
      "language": "python",
      "name": "python3"
    },
    "language_info": {
      "codemirror_mode": {
        "name": "ipython",
        "version": 3
      },
      "file_extension": ".py",
      "mimetype": "text/x-python",
      "name": "python",
      "nbconvert_exporter": "python",
      "pygments_lexer": "ipython3",
      "version": "3.7.0"
    },
    "colab": {
      "name": "CE2_Agus Nur Hidayat.ipnyb",
      "provenance": [],
      "collapsed_sections": [],
      "include_colab_link": true
    }
  },
  "cells": [
    {
      "cell_type": "markdown",
      "metadata": {
        "id": "view-in-github",
        "colab_type": "text"
      },
      "source": [
        "<a href=\"https://colab.research.google.com/github/dsdayat/CE_Week2-DS15/blob/main/CE2_Agus_Nur_Hidayat_ipnyb.ipynb\" target=\"_parent\"><img src=\"https://colab.research.google.com/assets/colab-badge.svg\" alt=\"Open In Colab\"/></a>"
      ]
    },
    {
      "cell_type": "markdown",
      "metadata": {
        "id": "cMrT-5F164qj"
      },
      "source": [
        "## Welcome to the Week 2 Coding Challenge!"
      ]
    },
    {
      "cell_type": "markdown",
      "metadata": {
        "id": "79NwqjIq64qr"
      },
      "source": [
        "Problem 1: Who is in the third place?"
      ]
    },
    {
      "cell_type": "markdown",
      "metadata": {
        "id": "9db_O8Co64qs"
      },
      "source": [
        "Create a function whose name is ```third_place``` that does the following: \n",
        "\n",
        "Given a list of test score and a list of participants name. The desired output would be the name of the participant who gets the 3rd best score. The rule of determining the order of the best score is as follows:\n",
        "- Higher score is better\n",
        "- In case of multiple participants having the same test score, they can occupy the same ranking value. For example, if 2 participants scored 100, then both of them occupy the first place. \n",
        "\n",
        "The first input of the function is the name list, and the second input to the function is the score list.\n",
        "\n",
        "##### Example 1:\n",
        "\n",
        "Input:\n",
        "\n",
        "names = [Andi, Budi, Charlie, Dilan, Echa]\n",
        "\n",
        "score = [80, 90, 95, 100, 85]\n",
        "\n",
        "This means, Andi gets 80, Budi gets 90, Charlie gets 95, Dilan gets 100, and Echa gets 85. The first best score is 100, and Dilan gets it. The second best score is 95, and Charlie gets it. The third best score is 90, and Budi gets it. So, our output should be Budi.\n",
        "\n",
        "Output: 'The third winner: Budi'.\n",
        "\n",
        "When we run ```third_place(names, score)```, the output will be 'The third winner: Budi'.\n",
        "\n",
        "##### Example 2:\n",
        "\n",
        "Input:\n",
        "\n",
        "names = [Andi, Budi, Charlie, Dilan, Echa]\n",
        "\n",
        "score = [80, 80, 80, 100, 90]\n",
        "\n",
        "This means, Andi, Budi, and Charlie gets 80, Dilan gets 100, and Echa gets 90. The third best score is 80, and our output should list ALL of the participants who get 80. \n",
        "\n",
        "Output: 'The third winner: Andi, Budi, Charlie'.\n",
        "\n",
        "When we run ```third_place(names, score)```, the output will be 'The third winner: Andi, Budi, Charlie'.\n",
        "\n",
        "\n",
        "##### Example 3:\n",
        "\n",
        "Input:\n",
        "\n",
        "names = [Andi, Budi, Charlie, Dilan, Echa, Fanya]\n",
        "\n",
        "score = [80, 90, 90, 100, 100, 80]\n",
        "\n",
        "The first best score (first winner) is 100 - Dilan and Echa shared this position. The second best score (second winner) is 90 - Budi and Charlie shared this position. The third best score (third winner) is 80, and it is shared by Andi and Fanya. So, our output should be Andi and Fanya.\n",
        "\n",
        "Output: 'The third winner: Andi, Fanya'."
      ]
    },
    {
      "cell_type": "markdown",
      "source": [
        "example 1"
      ],
      "metadata": {
        "id": "y2qnp9X0Y_qv"
      }
    },
    {
      "cell_type": "code",
      "source": [
        "import pandas as pd"
      ],
      "metadata": {
        "id": "05VbOVjGaq0R"
      },
      "execution_count": 1,
      "outputs": []
    },
    {
      "cell_type": "code",
      "source": [
        "#Example 1\n",
        "names = ['Andi', 'Budi', 'Charlie', 'Dilan', 'Echa']\n",
        "scores = [80, 90, 95, 100, 85]\n",
        "\n",
        "p=sorted(zip(names, scores), key=lambda x: x[1])[-3][0]\n",
        "print('The third winner:',p )"
      ],
      "metadata": {
        "colab": {
          "base_uri": "https://localhost:8080/"
        },
        "id": "CzNaicFzmtBe",
        "outputId": "41c890b3-7a15-46eb-a938-d9b9880f7712"
      },
      "execution_count": 2,
      "outputs": [
        {
          "output_type": "stream",
          "name": "stdout",
          "text": [
            "The third winner: Budi\n"
          ]
        }
      ]
    },
    {
      "cell_type": "code",
      "metadata": {
        "id": "QOoSINMz64qv",
        "colab": {
          "base_uri": "https://localhost:8080/"
        },
        "outputId": "ba7648f7-14d9-48a0-971a-5a2f8125e285"
      },
      "source": [
        "#Example 2\n",
        "names = ['Andi', 'Budi', 'Charlie', 'Dilan', 'Echa']\n",
        "scores = [80, 80, 80, 100, 90]\n",
        "\n",
        "o = sorted(zip(names, scores), key=lambda x: x[1])\n",
        "p = o [-3][1]\n",
        "q=[name for name, score in o if score == p]\n",
        "print('The third winner:', \" \".join(q))\n"
      ],
      "execution_count": 3,
      "outputs": [
        {
          "output_type": "stream",
          "name": "stdout",
          "text": [
            "The third winner: Andi Budi Charlie\n"
          ]
        }
      ]
    },
    {
      "cell_type": "code",
      "source": [
        "#Example 3\n",
        "names = ['Andi', 'Budi', 'Charlie', 'Dilan', 'Echa','Fanya']\n",
        "scores = [80, 90, 90, 100, 100, 80]\n",
        "\n",
        "o = sorted(zip(names, scores), key=lambda x: x[1])\n",
        "p = o [-0][1]\n",
        "q=[name for name, score in o if score == p]\n",
        "print('The third winner:', \" \".join(q))\n"
      ],
      "metadata": {
        "colab": {
          "base_uri": "https://localhost:8080/"
        },
        "id": "BTg2yTo5qVcX",
        "outputId": "0ddfd12d-cef3-4b05-c4fb-61ff4e640490"
      },
      "execution_count": 4,
      "outputs": [
        {
          "output_type": "stream",
          "name": "stdout",
          "text": [
            "The third winner: Andi Fanya\n"
          ]
        }
      ]
    },
    {
      "cell_type": "markdown",
      "metadata": {
        "id": "1ydxvEez64q3"
      },
      "source": [
        "Problem 2: Find the Square Root!"
      ]
    },
    {
      "cell_type": "markdown",
      "metadata": {
        "id": "nvcBPlgV64q5"
      },
      "source": [
        "Create a function whose name is ```square_root``` that does the following:\n",
        "\n",
        "Given a second order polynomial, find the roots (roots should be in real number). The input will be 3 numbers, each of them representing 'a', 'b', and 'c', in ax^2 + bx + c = 0.\n",
        "\n",
        "Your task is to find the root of ax^2 + bx + c = 0. \n",
        "\n",
        "However, notice that sometimes an equation cannot be solved, or they have only one solution instead of two. Your function should also take this into consideration. \n",
        "\n",
        "The input of your function is 3 numbers, first number is the 'a' constant, second number is the 'b' constant, and third number is the 'c' constant.\n",
        "\n",
        "##### Example 1:\n",
        "\n",
        "Input: a = 1, b = -5, c = 6.\n",
        "\n",
        "This means, the equation is 1x^2 - 5x + 6 = 0. \n",
        "This equation has two solutions, the first solution is x = 3, and the second solution is x = 2. So, your output should be:\n",
        "\n",
        "Output: 'X1 = 3, X2 = 2'.\n",
        "\n",
        "When we run the code ```square_root(1, -5, 6)``` the output will be: 'X1 = 3, X2 = 2'\n",
        "\n",
        "##### Example 2:\n",
        "\n",
        "Input: a = 2, b = 4, c = 2.\n",
        "\n",
        "This means, the equation is 2x^2 + 4x + 2 = 0. \n",
        "This equation has only one solution, which is x = -1. \n",
        "\n",
        "Output; 'X = -1'.\n",
        "\n",
        "##### Example 3:\n",
        "\n",
        "Input: a = 1, b = 1, c = 9.\n",
        "\n",
        "This means, the equation is x^2 + x + 9 = 0.\n",
        "This equation has no real solution. (If you have learned about imaginary or complex numbers, the solution of this equation is those kind of numbers. But here, we're just going to deal with real numbers).\n",
        "\n",
        "Output: 'No solution'."
      ]
    },
    {
      "cell_type": "code",
      "source": [
        "#Example 1\n",
        "import numpy as np\n",
        "a = 1\n",
        "b = -5\n",
        "c = 6\n",
        "  \n",
        "# Cari akar diskriminan\n",
        "d = (b**2) - (4 * a*c)\n",
        "ad=np.sqrt(d)  \n",
        "# cari x1 dan x2 rumus abc\n",
        "x1 = (-b - ad)/(2 * a)\n",
        "x2 = (-b + ad)/(2 * a)\n",
        "  \n",
        "# Hasilnya\n",
        "print(\"X1=\", int(x1), \", X2=\", int(x2))"
      ],
      "metadata": {
        "colab": {
          "base_uri": "https://localhost:8080/"
        },
        "id": "n85-lGyP9N6w",
        "outputId": "d1133049-f012-45ef-b608-1df994e2c5c2"
      },
      "execution_count": 27,
      "outputs": [
        {
          "output_type": "stream",
          "name": "stdout",
          "text": [
            "X1= 2 , X2= 3\n"
          ]
        }
      ]
    },
    {
      "cell_type": "code",
      "metadata": {
        "id": "i3_ebfGq64q6",
        "colab": {
          "base_uri": "https://localhost:8080/"
        },
        "outputId": "d56a7e12-ca82-4366-cbe2-b52bbf3890fd"
      },
      "source": [
        "#Example 2\n",
        "import numpy as np\n",
        "\n",
        "a = 2\n",
        "b = 4\n",
        "c = 2\n",
        "  \n",
        "# Cari akar diskriminan\n",
        "d = (b**2) - (4 * a*c)\n",
        "ad=np.sqrt(d)  \n",
        "# cari x1 dan x2 rumus abc\n",
        "x1 = (-b - ad)/(2 * a)\n",
        "x2 = (-b + ad)/(2 * a)\n",
        "  \n",
        "# Hasilnya\n",
        "if x1==x2:\n",
        "  print(\"X =\",int(x1))\n",
        "else:\n",
        "  print(\"X1=\", int(x1), \", X2=\", int(x2))"
      ],
      "execution_count": 43,
      "outputs": [
        {
          "output_type": "stream",
          "name": "stdout",
          "text": [
            "X = -1\n"
          ]
        }
      ]
    },
    {
      "cell_type": "code",
      "source": [
        "#Example 3\n",
        "import cmath\n",
        "a = 1\n",
        "b = 1\n",
        "c = 9\n",
        "  \n",
        "# Cari akar diskriminan\n",
        "d =cmath.sqrt(d)  \n",
        "# cari x1 dan x2 rumus abc\n",
        "x1 = (-b - ad)/(2 * a)\n",
        "x2 = (-b + ad)/(2 * a)\n",
        "  \n",
        "# Hasilnya\n",
        "if x1==x2:\n",
        "  print(\"X =\",int(x1))\n",
        "elif x1==x2== int():\n",
        "    print(\"X1=\", (x1), \", X2=\", (x2))\n",
        "else:\n",
        "  print(\"No Result\")\n"
      ],
      "metadata": {
        "colab": {
          "base_uri": "https://localhost:8080/"
        },
        "id": "lFY5qAen-P23",
        "outputId": "1d3bc0fb-5919-4c31-8773-355a4532c50a"
      },
      "execution_count": 42,
      "outputs": [
        {
          "output_type": "stream",
          "name": "stdout",
          "text": [
            "No Result\n"
          ]
        }
      ]
    },
    {
      "cell_type": "markdown",
      "metadata": {
        "id": "NntHmMB164q-"
      },
      "source": [
        "Problem 3: Find Distance Between Two Coordinates - Easy"
      ]
    },
    {
      "cell_type": "markdown",
      "metadata": {
        "id": "12EaDJlE64q_"
      },
      "source": [
        "Create a function called ```distance``` that does the following:\n",
        "\n",
        "Given two coordinates in a list. Your task is to calculate the distance between these two coordinates. The input of your function will be two list. Each list contains 2 members, representing the x and y position.\n",
        "\n",
        "##### Example 1:\n",
        "\n",
        "Input: \n",
        "\n",
        "point_1 = [5, 5]\n",
        "\n",
        "point_2 = [1, 2]\n",
        "\n",
        "This means, the first point's coordinate is (5,5), the second point's coordinate is (1,2). To calculate the distance between these two points, we use the usual euclidean distance formula here: https://wikimedia.org/api/rest_v1/media/math/render/svg/2e0c9ce1b3455cb9e92c6bad6684dbda02f69c82. \n",
        "\n",
        "The distance is: \n",
        "\n",
        "Square root of ((5-1)^2 + (5-2)^2) = Square root of (16 + 9) = Square root of (25) = 5.\n",
        "\n",
        "Output: 'The distance is 5.'\n",
        "\n",
        "So, when we run the code ```distance(point_1, point_2)``` the output will be 'The distance is 5'.\n",
        "\n",
        "##### Example 2:\n",
        "\n",
        "Input:\n",
        "\n",
        "point_1 = [0,-1]\n",
        "\n",
        "point_2 = [-3, 2]\n",
        "\n",
        "The first coordinate is (0,-1), the second coordinate is (-3,2). The distance between them is:\n",
        "\n",
        "Square root of ((0- -3)^2 + (-1-2)^2) = Square root of (9 + 9) = Square root of (18) = 4.242640687\n",
        "\n",
        "Output: 'The distance is 4.242640687'.\n",
        "\n",
        "So, when we run the code ```distance(point_1, point_2)``` the output will be 'The distance is 4.242640487'.\n",
        "\n",
        "##### FAQ:\n",
        "\n",
        "- Question: \"Desimalnya dibuletin ga?\"\n",
        "- Answer: \"Ga usah peduliin format output desimalnya. Mau keluar berapa angka di belakang koma gpp kok. Yang penting value nya bener.\" "
      ]
    },
    {
      "cell_type": "code",
      "source": [
        "#Example 1\n",
        "import numpy as np\n",
        "p1 = [5, 5]\n",
        "p2 = [1, 2]\n",
        "d = np.sqrt( ((p1[0]-p2[0])**2)+((p1[1]-p2[1])**2) )\n",
        "\n",
        "print(\"The distance is \", int(d))"
      ],
      "metadata": {
        "colab": {
          "base_uri": "https://localhost:8080/"
        },
        "id": "DquImlngPfoY",
        "outputId": "e38bf2a1-f027-4408-a90c-9e11f91c54be"
      },
      "execution_count": 87,
      "outputs": [
        {
          "output_type": "stream",
          "name": "stdout",
          "text": [
            "The distance is  5\n"
          ]
        }
      ]
    },
    {
      "cell_type": "code",
      "source": [
        "#Example 2\n",
        "import numpy as np\n",
        "p1 = [0, -1]\n",
        "p2 = [-3, 2]\n",
        "d = np.sqrt( ((p1[0]-p2[0])**2)+((p1[1]-p2[1])**2) )\n",
        "\n",
        "print(\"The distance is \", d)\n",
        "\n"
      ],
      "metadata": {
        "colab": {
          "base_uri": "https://localhost:8080/"
        },
        "id": "g9278soEAQ9k",
        "outputId": "c1213d60-a6d0-49bc-8850-fdd626683773"
      },
      "execution_count": 85,
      "outputs": [
        {
          "output_type": "stream",
          "name": "stdout",
          "text": [
            "4.242640687119285\n"
          ]
        }
      ]
    }
  ]
}